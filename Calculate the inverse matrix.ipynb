{
 "cells": [
  {
   "cell_type": "code",
   "execution_count": 2,
   "id": "242683f4-f808-4be0-b4a0-e884cc275b65",
   "metadata": {},
   "outputs": [
    {
     "name": "stdout",
     "output_type": "stream",
     "text": [
      "Matrix A:\n",
      "[[1 2 3]\n",
      " [0 1 4]\n",
      " [5 6 0]]\n",
      "\n",
      "Inverse of A (A_inverse):\n",
      "[[-24.  18.   5.]\n",
      " [ 20. -15.  -4.]\n",
      " [ -5.   4.   1.]]\n",
      "\n",
      "Product A * A_inverse (Should be identity):\n",
      "[[ 1.00000000e+00 -1.77635684e-15 -4.44089210e-16]\n",
      " [ 0.00000000e+00  1.00000000e+00  0.00000000e+00]\n",
      " [ 0.00000000e+00  0.00000000e+00  1.00000000e+00]]\n",
      "\n",
      "Product A_inverse * A (Should be identity):\n",
      "[[ 1.00000000e+00 -8.88178420e-15 -1.42108547e-14]\n",
      " [ 1.77635684e-15  1.00000000e+00  0.00000000e+00]\n",
      " [-4.44089210e-16 -8.88178420e-16  1.00000000e+00]]\n"
     ]
    }
   ],
   "source": [
    "import numpy as np\n",
    "\n",
    "A = np.array([[1, 2, 3], [0, 1, 4], [5, 6, 0]])\n",
    "\n",
    "A_inverse = np.linalg.inv(A)\n",
    "\n",
    "product_a = np.dot(A, A_inverse)\n",
    "product_b = np.dot(A_inverse, A)\n",
    "\n",
    "print(\"Matrix A:\")\n",
    "print(A)\n",
    "print(\"\\nInverse of A (A_inverse):\")\n",
    "print(A_inverse)\n",
    "print(\"\\nProduct A * A_inverse (Should be identity):\")\n",
    "print(product_a)\n",
    "print(\"\\nProduct A_inverse * A (Should be identity):\")\n",
    "print(product_b)\n"
   ]
  },
  {
   "cell_type": "code",
   "execution_count": null,
   "id": "d0e43f5e-c243-49e1-9bc5-b13baf577c8b",
   "metadata": {},
   "outputs": [],
   "source": []
  }
 ],
 "metadata": {
  "kernelspec": {
   "display_name": "Python 3 (ipykernel)",
   "language": "python",
   "name": "python3"
  },
  "language_info": {
   "codemirror_mode": {
    "name": "ipython",
    "version": 3
   },
   "file_extension": ".py",
   "mimetype": "text/x-python",
   "name": "python",
   "nbconvert_exporter": "python",
   "pygments_lexer": "ipython3",
   "version": "3.12.7"
  }
 },
 "nbformat": 4,
 "nbformat_minor": 5
}
